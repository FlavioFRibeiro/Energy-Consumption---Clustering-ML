{
 "cells": [
  {
   "cell_type": "markdown",
   "metadata": {},
   "source": [
    "Using customer energy consumption data, the project aims to group consumers by similarity in order to understand customer behavior and its relationship with energy consumption."
   ]
  },
  {
   "cell_type": "code",
   "execution_count": 55,
   "metadata": {},
   "outputs": [
    {
     "name": "stdout",
     "output_type": "stream",
     "text": [
      "You can find the dataset used in this project here -> https://archive.ics.uci.edu/dataset/235/individual+household+electric+power+consumption\n",
      "----------------------------------------\n",
      "\n",
      "Dataset's shape is: 2075259 rows e 9 columns\n",
      "\n",
      "----------------------------------------\n",
      "\n",
      "Dataset's first 5 lines\n"
     ]
    },
    {
     "data": {
      "text/html": [
       "<div>\n",
       "<style scoped>\n",
       "    .dataframe tbody tr th:only-of-type {\n",
       "        vertical-align: middle;\n",
       "    }\n",
       "\n",
       "    .dataframe tbody tr th {\n",
       "        vertical-align: top;\n",
       "    }\n",
       "\n",
       "    .dataframe thead th {\n",
       "        text-align: right;\n",
       "    }\n",
       "</style>\n",
       "<table border=\"1\" class=\"dataframe\">\n",
       "  <thead>\n",
       "    <tr style=\"text-align: right;\">\n",
       "      <th></th>\n",
       "      <th>Date</th>\n",
       "      <th>Time</th>\n",
       "      <th>Global_active_power</th>\n",
       "      <th>Global_reactive_power</th>\n",
       "      <th>Voltage</th>\n",
       "      <th>Global_intensity</th>\n",
       "      <th>Sub_metering_1</th>\n",
       "      <th>Sub_metering_2</th>\n",
       "      <th>Sub_metering_3</th>\n",
       "    </tr>\n",
       "  </thead>\n",
       "  <tbody>\n",
       "    <tr>\n",
       "      <th>0</th>\n",
       "      <td>16/12/2006</td>\n",
       "      <td>17:24:00</td>\n",
       "      <td>4.216</td>\n",
       "      <td>0.418</td>\n",
       "      <td>234.840</td>\n",
       "      <td>18.400</td>\n",
       "      <td>0.000</td>\n",
       "      <td>1.000</td>\n",
       "      <td>17.0</td>\n",
       "    </tr>\n",
       "    <tr>\n",
       "      <th>1</th>\n",
       "      <td>16/12/2006</td>\n",
       "      <td>17:25:00</td>\n",
       "      <td>5.360</td>\n",
       "      <td>0.436</td>\n",
       "      <td>233.630</td>\n",
       "      <td>23.000</td>\n",
       "      <td>0.000</td>\n",
       "      <td>1.000</td>\n",
       "      <td>16.0</td>\n",
       "    </tr>\n",
       "    <tr>\n",
       "      <th>2</th>\n",
       "      <td>16/12/2006</td>\n",
       "      <td>17:26:00</td>\n",
       "      <td>5.374</td>\n",
       "      <td>0.498</td>\n",
       "      <td>233.290</td>\n",
       "      <td>23.000</td>\n",
       "      <td>0.000</td>\n",
       "      <td>2.000</td>\n",
       "      <td>17.0</td>\n",
       "    </tr>\n",
       "    <tr>\n",
       "      <th>3</th>\n",
       "      <td>16/12/2006</td>\n",
       "      <td>17:27:00</td>\n",
       "      <td>5.388</td>\n",
       "      <td>0.502</td>\n",
       "      <td>233.740</td>\n",
       "      <td>23.000</td>\n",
       "      <td>0.000</td>\n",
       "      <td>1.000</td>\n",
       "      <td>17.0</td>\n",
       "    </tr>\n",
       "    <tr>\n",
       "      <th>4</th>\n",
       "      <td>16/12/2006</td>\n",
       "      <td>17:28:00</td>\n",
       "      <td>3.666</td>\n",
       "      <td>0.528</td>\n",
       "      <td>235.680</td>\n",
       "      <td>15.800</td>\n",
       "      <td>0.000</td>\n",
       "      <td>1.000</td>\n",
       "      <td>17.0</td>\n",
       "    </tr>\n",
       "  </tbody>\n",
       "</table>\n",
       "</div>"
      ],
      "text/plain": [
       "         Date      Time Global_active_power Global_reactive_power  Voltage  \\\n",
       "0  16/12/2006  17:24:00               4.216                 0.418  234.840   \n",
       "1  16/12/2006  17:25:00               5.360                 0.436  233.630   \n",
       "2  16/12/2006  17:26:00               5.374                 0.498  233.290   \n",
       "3  16/12/2006  17:27:00               5.388                 0.502  233.740   \n",
       "4  16/12/2006  17:28:00               3.666                 0.528  235.680   \n",
       "\n",
       "  Global_intensity Sub_metering_1 Sub_metering_2  Sub_metering_3  \n",
       "0           18.400          0.000          1.000            17.0  \n",
       "1           23.000          0.000          1.000            16.0  \n",
       "2           23.000          0.000          2.000            17.0  \n",
       "3           23.000          0.000          1.000            17.0  \n",
       "4           15.800          0.000          1.000            17.0  "
      ]
     },
     "execution_count": 55,
     "metadata": {},
     "output_type": "execute_result"
    }
   ],
   "source": [
    "# Imports\n",
    "import pandas as pd\n",
    "import numpy as np\n",
    "import matplotlib.pyplot as plt\n",
    "from matplotlib import pylab\n",
    "from sklearn.cluster import KMeans\n",
    "from sklearn.decomposition import PCA\n",
    "from sklearn.model_selection import train_test_split\n",
    "from scipy.spatial.distance import cdist, pdist\n",
    "from sklearn.metrics import silhouette_score\n",
    "import warnings\n",
    "warnings.filterwarnings(\"ignore\")\n",
    "%matplotlib inline\n",
    "\n",
    "# Loading the data\n",
    "print(\"You can find the dataset used in this project here -> https://archive.ics.uci.edu/dataset/235/individual+household+electric+power+consumption\")\n",
    "dataset = pd.read_csv('dados/household_power_consumption.txt', delimiter = ';', low_memory = False)\n",
    "print(\"----------------------------------------\")\n",
    "print(\"\\nDataset's shape is: %s rows e %s columns\\n\" %dataset.shape)\n",
    "print(\"----------------------------------------\")\n",
    "print(\"\\nDataset's first 5 lines\")\n",
    "dataset.head(5)\n"
   ]
  },
  {
   "cell_type": "code",
   "execution_count": 56,
   "metadata": {},
   "outputs": [
    {
     "name": "stdout",
     "output_type": "stream",
     "text": [
      "----------------------------------------\n",
      "Dataset's datatypes:\n",
      "\n",
      "Date                      object\n",
      "Time                      object\n",
      "Global_active_power       object\n",
      "Global_reactive_power     object\n",
      "Voltage                   object\n",
      "Global_intensity          object\n",
      "Sub_metering_1            object\n",
      "Sub_metering_2            object\n",
      "Sub_metering_3           float64\n",
      "dtype: object\n",
      "----------------------------------------\n",
      "Are there any null values?-> True\n",
      "----------------------------------------\n",
      "\n",
      "The null numbers are as follows:\n",
      " \n",
      "Date                         0\n",
      "Time                         0\n",
      "Global_active_power          0\n",
      "Global_reactive_power        0\n",
      "Voltage                      0\n",
      "Global_intensity             0\n",
      "Sub_metering_1               0\n",
      "Sub_metering_2               0\n",
      "Sub_metering_3           25979\n",
      "dtype: int64\n"
     ]
    }
   ],
   "source": [
    "print(\"Dataset's datatypes:\\n\")\n",
    "print(dataset.dtypes)\n",
    "print(\"----------------------------------------\")\n",
    "# Checking if there are null values\n",
    "print(\"Are there any null values?-> %s\" %dataset.isnull().values.any())\n",
    "print(\"----------------------------------------\")\n",
    "print(\"\\nThe null numbers are as follows:\\n \")\n",
    "print(dataset.isnull().sum())"
   ]
  },
  {
   "cell_type": "code",
   "execution_count": 57,
   "metadata": {},
   "outputs": [
    {
     "name": "stdout",
     "output_type": "stream",
     "text": [
      "----------------------------------------\n",
      "Does the dataset still have null values? -> False\n",
      "----------------------------------------\n"
     ]
    }
   ],
   "source": [
    "print(\"----------------------------------------\")\n",
    "# Removes the nulls and also remove the first two columns once that they aren't needed\n",
    "dataset = dataset.iloc[0:, 2:9].dropna()\n",
    "\n",
    "# Checking if there are still null values in the dataset\n",
    "print(\"Does the dataset still have null values? -> %s\" %dataset.isnull().values.any())\n",
    "print(\"----------------------------------------\")"
   ]
  },
  {
   "cell_type": "code",
   "execution_count": 58,
   "metadata": {},
   "outputs": [
    {
     "name": "stdout",
     "output_type": "stream",
     "text": [
      "Below are the values taken from our Database\n",
      "\n",
      "[['4.216' '0.418' '234.840' ... '0.000' '1.000' 17.0]\n",
      " ['5.360' '0.436' '233.630' ... '0.000' '1.000' 16.0]\n",
      " ['5.374' '0.498' '233.290' ... '0.000' '2.000' 17.0]\n",
      " ...\n",
      " ['0.938' '0.000' '239.820' ... '0.000' '0.000' 0.0]\n",
      " ['0.934' '0.000' '239.700' ... '0.000' '0.000' 0.0]\n",
      " ['0.932' '0.000' '239.550' ... '0.000' '0.000' 0.0]]\n",
      "----------------------------------------\n",
      "\n",
      "The new shape, after taking 2.7% as our sample is (51232, 7)\n"
     ]
    }
   ],
   "source": [
    "\n",
    "# Extracting the values of the attributes  \n",
    "dataset_atrib = dataset.values\n",
    "print(\"Below are the values taken from our Database\\n\")\n",
    "print(dataset_atrib)\n",
    "print(\"----------------------------------------\")\n",
    "# Taking 2.5% of our dataset, once that if we take all of it we woulnd't have the RAM needed\n",
    "amostra1, amostra2 = train_test_split(dataset_atrib, train_size = .025)\n",
    "print(f\"\\nThe new shape, after taking 2.7% as our sample is {amostra1.shape}\")"
   ]
  },
  {
   "cell_type": "code",
   "execution_count": 59,
   "metadata": {},
   "outputs": [],
   "source": [
    "# Applies the dimensionality reduction\n",
    "pca = PCA(n_components = 2).fit_transform(amostra1)\n",
    "\n",
    "# Determining a range of K\n",
    "k_range = range(1,12)\n",
    "\n",
    "# Applying the K-Means model to each value of K\n",
    "k_means_var = [KMeans(n_clusters = k).fit(pca) for k in k_range]\n",
    "\n",
    "# Adjusting the cluster centroid for each model\n",
    "centroids = [X.cluster_centers_ for X in k_means_var]\n",
    "\n",
    "# Calculating the Euclidean distance from each data point to the centroid\n",
    "k_euclid = [cdist(pca, cent, 'euclidean') for cent in centroids]\n",
    "dist = [np.min(ke, axis = 1) for ke in k_euclid]\n",
    "\n",
    "# Sum of the squares of the distances within the cluster\n",
    "soma_quadrados_intra_cluster = [sum(d**2) for d in dist]\n",
    "\n",
    "# Total sum of squares\n",
    "soma_total = sum(pdist(pca)**2)/pca.shape[0]\n",
    "\n",
    "# Sum of squares between clusters\n",
    "soma_quadrados_inter_cluster = soma_total - soma_quadrados_intra_cluster\n",
    "\n",
    "# Elbow's curve\n",
    "fig = plt.figure()\n",
    "ax = fig.add_subplot(111)\n",
    "ax.plot(k_range, soma_quadrados_inter_cluster/soma_total * 100, 'b*-')\n",
    "ax.set_ylim((0,100))\n",
    "plt.grid(True)\n",
    "plt.xlabel('Number of Clusters')\n",
    "plt.ylabel('Percent Variance Explained')\n",
    "plt.title('Explained Variance x K Value')"
   ]
  },
  {
   "cell_type": "code",
   "execution_count": 61,
   "metadata": {},
   "outputs": [
    {
     "data": {
      "text/html": [
       "<style>#sk-container-id-4 {color: black;}#sk-container-id-4 pre{padding: 0;}#sk-container-id-4 div.sk-toggleable {background-color: white;}#sk-container-id-4 label.sk-toggleable__label {cursor: pointer;display: block;width: 100%;margin-bottom: 0;padding: 0.3em;box-sizing: border-box;text-align: center;}#sk-container-id-4 label.sk-toggleable__label-arrow:before {content: \"▸\";float: left;margin-right: 0.25em;color: #696969;}#sk-container-id-4 label.sk-toggleable__label-arrow:hover:before {color: black;}#sk-container-id-4 div.sk-estimator:hover label.sk-toggleable__label-arrow:before {color: black;}#sk-container-id-4 div.sk-toggleable__content {max-height: 0;max-width: 0;overflow: hidden;text-align: left;background-color: #f0f8ff;}#sk-container-id-4 div.sk-toggleable__content pre {margin: 0.2em;color: black;border-radius: 0.25em;background-color: #f0f8ff;}#sk-container-id-4 input.sk-toggleable__control:checked~div.sk-toggleable__content {max-height: 200px;max-width: 100%;overflow: auto;}#sk-container-id-4 input.sk-toggleable__control:checked~label.sk-toggleable__label-arrow:before {content: \"▾\";}#sk-container-id-4 div.sk-estimator input.sk-toggleable__control:checked~label.sk-toggleable__label {background-color: #d4ebff;}#sk-container-id-4 div.sk-label input.sk-toggleable__control:checked~label.sk-toggleable__label {background-color: #d4ebff;}#sk-container-id-4 input.sk-hidden--visually {border: 0;clip: rect(1px 1px 1px 1px);clip: rect(1px, 1px, 1px, 1px);height: 1px;margin: -1px;overflow: hidden;padding: 0;position: absolute;width: 1px;}#sk-container-id-4 div.sk-estimator {font-family: monospace;background-color: #f0f8ff;border: 1px dotted black;border-radius: 0.25em;box-sizing: border-box;margin-bottom: 0.5em;}#sk-container-id-4 div.sk-estimator:hover {background-color: #d4ebff;}#sk-container-id-4 div.sk-parallel-item::after {content: \"\";width: 100%;border-bottom: 1px solid gray;flex-grow: 1;}#sk-container-id-4 div.sk-label:hover label.sk-toggleable__label {background-color: #d4ebff;}#sk-container-id-4 div.sk-serial::before {content: \"\";position: absolute;border-left: 1px solid gray;box-sizing: border-box;top: 0;bottom: 0;left: 50%;z-index: 0;}#sk-container-id-4 div.sk-serial {display: flex;flex-direction: column;align-items: center;background-color: white;padding-right: 0.2em;padding-left: 0.2em;position: relative;}#sk-container-id-4 div.sk-item {position: relative;z-index: 1;}#sk-container-id-4 div.sk-parallel {display: flex;align-items: stretch;justify-content: center;background-color: white;position: relative;}#sk-container-id-4 div.sk-item::before, #sk-container-id-4 div.sk-parallel-item::before {content: \"\";position: absolute;border-left: 1px solid gray;box-sizing: border-box;top: 0;bottom: 0;left: 50%;z-index: -1;}#sk-container-id-4 div.sk-parallel-item {display: flex;flex-direction: column;z-index: 1;position: relative;background-color: white;}#sk-container-id-4 div.sk-parallel-item:first-child::after {align-self: flex-end;width: 50%;}#sk-container-id-4 div.sk-parallel-item:last-child::after {align-self: flex-start;width: 50%;}#sk-container-id-4 div.sk-parallel-item:only-child::after {width: 0;}#sk-container-id-4 div.sk-dashed-wrapped {border: 1px dashed gray;margin: 0 0.4em 0.5em 0.4em;box-sizing: border-box;padding-bottom: 0.4em;background-color: white;}#sk-container-id-4 div.sk-label label {font-family: monospace;font-weight: bold;display: inline-block;line-height: 1.2em;}#sk-container-id-4 div.sk-label-container {text-align: center;}#sk-container-id-4 div.sk-container {/* jupyter's `normalize.less` sets `[hidden] { display: none; }` but bootstrap.min.css set `[hidden] { display: none !important; }` so we also need the `!important` here to be able to override the default hidden behavior on the sphinx rendered scikit-learn.org. See: https://github.com/scikit-learn/scikit-learn/issues/21755 */display: inline-block !important;position: relative;}#sk-container-id-4 div.sk-text-repr-fallback {display: none;}</style><div id=\"sk-container-id-4\" class=\"sk-top-container\"><div class=\"sk-text-repr-fallback\"><pre>KMeans(n_clusters=10)</pre><b>In a Jupyter environment, please rerun this cell to show the HTML representation or trust the notebook. <br />On GitHub, the HTML representation is unable to render, please try loading this page with nbviewer.org.</b></div><div class=\"sk-container\" hidden><div class=\"sk-item\"><div class=\"sk-estimator sk-toggleable\"><input class=\"sk-toggleable__control sk-hidden--visually\" id=\"sk-estimator-id-4\" type=\"checkbox\" checked><label for=\"sk-estimator-id-4\" class=\"sk-toggleable__label sk-toggleable__label-arrow\">KMeans</label><div class=\"sk-toggleable__content\"><pre>KMeans(n_clusters=10)</pre></div></div></div></div></div>"
      ],
      "text/plain": [
       "KMeans(n_clusters=10)"
      ]
     },
     "execution_count": 61,
     "metadata": {},
     "output_type": "execute_result"
    }
   ],
   "source": [
    "# Creating the model with K = 5\n",
    "modelo_5c = KMeans(n_clusters = 5)\n",
    "modelo_5c.fit(pca)\n",
    "\n",
    "# Creating the model with = 6\n",
    "modelo_6c = KMeans(n_clusters = 6)\n",
    "modelo_6c.fit(pca)\n",
    "\n",
    "# Creating the model with = 7\n",
    "modelo_7c = KMeans(n_clusters = 7)\n",
    "modelo_7c.fit(pca)\n",
    "\n",
    "# Creating the model with = 8\n",
    "modelo_8c = KMeans(n_clusters = 8)\n",
    "modelo_8c.fit(pca)\n",
    "\n",
    "# Creating the model with = 9\n",
    "modelo_9c = KMeans(n_clusters = 9)\n",
    "modelo_9c.fit(pca)\n",
    "\n",
    "# Creating the model with = 10\n",
    "modelo_10c = KMeans(n_clusters = 10)\n",
    "modelo_10c.fit(pca)"
   ]
  },
  {
   "cell_type": "code",
   "execution_count": 62,
   "metadata": {},
   "outputs": [
    {
     "name": "stdout",
     "output_type": "stream",
     "text": [
      "Label value for (5 clusters): 0.8579040061673204\n",
      "Label value for (6 clusters): 0.8498122897529151\n",
      "Label value for (7 clusters): 0.8404889083998373\n",
      "Label value for (8 clusters): 0.7805826122281578\n",
      "Label value for (9 clusters): 0.8117429706293386\n",
      "Label value for (10 clusters) 0.6691994272506511\n"
     ]
    }
   ],
   "source": [
    "# Silhouette Score 5c\n",
    "labels = modelo_5c.labels_\n",
    "print(\"Label value for (5 clusters): %s\" %silhouette_score(pca, labels, metric = 'euclidean'))\n",
    "\n",
    "# Silhouette Score 6c\n",
    "labels = modelo_6c.labels_\n",
    "print(\"Label value for (6 clusters): %s\" %silhouette_score(pca, labels, metric = 'euclidean'))\n",
    "\n",
    "# Silhouette Score 7c\n",
    "labels = modelo_7c.labels_\n",
    "print(\"Label value for (7 clusters): %s\" %silhouette_score(pca, labels, metric = 'euclidean'))\n",
    "\n",
    "# Silhouette Score 8c\n",
    "labels = modelo_8c.labels_\n",
    "print(\"Label value for (8 clusters): %s\" %silhouette_score(pca, labels, metric = 'euclidean'))\n",
    " \n",
    "# Silhouette Score 9c\n",
    "labels = modelo_9c.labels_\n",
    "print(\"Label value for (9 clusters): %s\" %silhouette_score(pca, labels, metric = 'euclidean'))\n",
    "\n",
    "# Silhouette Score 10c\n",
    "labels = modelo_10c.labels_\n",
    "print(\"Label value for (10 clusters) %s\" %silhouette_score(pca, labels, metric = 'euclidean'))"
   ]
  },
  {
   "cell_type": "code",
   "execution_count": 74,
   "metadata": {},
   "outputs": [
    {
     "data": {
      "text/plain": [
       "<matplotlib.image.AxesImage at 0x2a44230cad0>"
      ]
     },
     "execution_count": 74,
     "metadata": {},
     "output_type": "execute_result"
    },
    {
     "data": {
      "image/png": "[encoded data removed]",
      "text/plain": [
       "<Figure size 640x480 with 1 Axes>"
      ]
     },
     "metadata": {},
     "output_type": "display_data"
    }
   ],
   "source": [
    "#Now that I know the best model, the one with 6 clusters, with label of 0.86, I can plot the graph\n",
    "\n",
    "# Gets the minimum and maximum values and organizes the shape\n",
    "x_min, x_max = pca[:, 0].min() - 5, pca[:, 0].max() - 1\n",
    "y_min, y_max = pca[:, 1].min() + 1, pca[:, 1].max() + 5\n",
    "xx, yy = np.meshgrid(np.arange(x_min, x_max, .0285), np.arange(y_min, y_max, .0285))\n",
    "Z = modelo_7c.predict(np.c_[xx.ravel(), yy.ravel()])\n",
    "Z = Z.reshape(xx.shape)\n",
    "\n",
    "# Plot of cluster's area\n",
    "plt.figure(1)\n",
    "plt.clf()\n",
    "plt.imshow(Z, \n",
    "           interpolation = 'nearest',\n",
    "           extent = (xx.min(), xx.max(), yy.min(), yy.max()),\n",
    "           cmap = plt.cm.Paired,\n",
    "           aspect = 'auto', \n",
    "           origin = 'lower')"
   ]
  },
  {
   "cell_type": "code",
   "execution_count": 75,
   "metadata": {},
   "outputs": [
    {
     "data": {
      "image/png": "[encoded data removed]",
      "text/plain": [
       "<Figure size 640x480 with 1 Axes>"
      ]
     },
     "metadata": {},
     "output_type": "display_data"
    }
   ],
   "source": [
    "# Centroid's plot\n",
    "plt.plot(pca[:, 0], pca[:, 1], 'k.', markersize = 4)\n",
    "centroids = modelo_7c.cluster_centers_\n",
    "inert = modelo_7c.inertia_\n",
    "plt.scatter(centroids[:, 0], centroids[:, 1], marker = 'x', s = 169, linewidths = 3, color = 'r', zorder = 8)\n",
    "plt.xlim(x_min, x_max)\n",
    "plt.ylim(y_min, y_max)\n",
    "plt.xticks(())\n",
    "plt.yticks(())\n",
    "plt.show()"
   ]
  },
  {
   "cell_type": "markdown",
   "metadata": {},
   "source": [
    "Creating the Cluster Map with the clusters from Model V1 that presented the best Silhouette Score."
   ]
  },
  {
   "cell_type": "code",
   "execution_count": 76,
   "metadata": {},
   "outputs": [],
   "source": [
    "# Lista com nomes das colunas\n",
    "names = ['Global_active_power', 'Global_reactive_power', 'Voltage', 'Global_intensity',\n",
    "         'Sub_metering_1', 'Sub_metering_2', 'Sub_metering_3']\n",
    "\n",
    "# Cria o cluster map\n",
    "cluster_map = pd.DataFrame(amostra1, columns = names)\n",
    "cluster_map['Global_active_power'] = pd.to_numeric(cluster_map['Global_active_power'])\n",
    "cluster_map['cluster'] = modelo_7c.labels_\n",
    "cluster_map"
   ]
  },
  {
   "cell_type": "code",
   "execution_count": 78,
   "metadata": {},
   "outputs": [
    {
     "data": {
      "text/plain": [
       "cluster\n",
       "0    2.376378\n",
       "1    0.513496\n",
       "2    3.771807\n",
       "3    3.429142\n",
       "4    2.569105\n",
       "5    1.776082\n",
       "6    4.664808\n",
       "Name: Global_active_power, dtype: float64"
      ]
     },
     "execution_count": 78,
     "metadata": {},
     "output_type": "execute_result"
    }
   ],
   "source": [
    "# Calcula a média de consumo de energia por cluster\n",
    "cluster_map.groupby('cluster')['Global_active_power'].mean()"
   ]
  },
  {
   "cell_type": "markdown",
   "metadata": {},
   "source": [
    "### End"
   ]
  }
 ],
 "metadata": {
  "anaconda-cloud": {},
  "kernelspec": {
   "display_name": "Python 3",
   "language": "python",
   "name": "python3"
  },
  "language_info": {
   "codemirror_mode": {
    "name": "ipython",
    "version": 3
   },
   "file_extension": ".py",
   "mimetype": "text/x-python",
   "name": "python",
   "nbconvert_exporter": "python",
   "pygments_lexer": "ipython3",
   "version": "3.12.0"
  }
 },
 "nbformat": 4,
 "nbformat_minor": 1
}
